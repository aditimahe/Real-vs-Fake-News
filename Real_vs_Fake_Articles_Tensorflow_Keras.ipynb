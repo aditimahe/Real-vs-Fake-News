{
  "cells": [
    {
      "cell_type": "code",
      "execution_count": null,
      "metadata": {
        "colab": {
          "base_uri": "https://localhost:8080/"
        },
        "id": "hcUdEY88oMMJ",
        "outputId": "7f738c81-152a-4414-8c4a-e234eb8d335a"
      },
      "outputs": [
        {
          "name": "stdout",
          "output_type": "stream",
          "text": [
            "Drive already mounted at /content/gdrive; to attempt to forcibly remount, call drive.mount(\"/content/gdrive\", force_remount=True).\n"
          ]
        }
      ],
      "source": [
        "from google.colab import drive\n",
        "drive.mount('/content/gdrive')"
      ]
    },
    {
      "cell_type": "markdown",
      "metadata": {
        "id": "d30dfNYOBTJm"
      },
      "source": [
        "**Import Libraries**"
      ]
    },
    {
      "cell_type": "code",
      "execution_count": null,
      "metadata": {
        "colab": {
          "base_uri": "https://localhost:8080/"
        },
        "id": "e08-KNhBpXTP",
        "outputId": "59040158-008d-4db5-ae02-eeb2880a540c"
      },
      "outputs": [
        {
          "name": "stdout",
          "output_type": "stream",
          "text": [
            "[nltk_data] Downloading package wordnet to /root/nltk_data...\n",
            "[nltk_data]   Package wordnet is already up-to-date!\n",
            "[nltk_data] Downloading package punkt to /root/nltk_data...\n",
            "[nltk_data]   Package punkt is already up-to-date!\n",
            "[nltk_data] Downloading package stopwords to /root/nltk_data...\n",
            "[nltk_data]   Package stopwords is already up-to-date!\n"
          ]
        }
      ],
      "source": [
        "import re\n",
        "import numpy as np\n",
        "import pandas as pd\n",
        "from tqdm import tqdm\n",
        "import seaborn as sns\n",
        "import matplotlib.pyplot as plt\n",
        "\n",
        "# Scikit-learn libraries\n",
        "from sklearn import metrics\n",
        "from sklearn.utils import shuffle\n",
        "from sklearn.metrics import recall_score\n",
        "from sklearn.metrics import precision_score\n",
        "from sklearn.metrics import classification_report\n",
        "from sklearn.model_selection import train_test_split\n",
        "\n",
        "# Tensorflow libraries\n",
        "import tensorflow as tf\n",
        "from tensorflow import keras\n",
        "from tensorflow.keras.preprocessing.text import Tokenizer\n",
        "from tensorflow.keras.preprocessing.sequence import pad_sequences\n",
        "\n",
        "# NLP libraries and files\n",
        "import nltk\n",
        "import string\n",
        "from nltk.corpus import stopwords\n",
        "nltk.download('wordnet')\n",
        "nltk.download('punkt')\n",
        "nltk.download('stopwords')\n",
        "\n",
        "from IPython.display import Markdown, display, clear_output\n",
        "\n",
        "def printBold(str):\n",
        "    display(Markdown('**' + str + '**'))"
      ]
    },
    {
      "cell_type": "markdown",
      "metadata": {
        "id": "iFr4Kmt_dRc1"
      },
      "source": [
        "# (1) Data Collection"
      ]
    },
    {
      "cell_type": "markdown",
      "metadata": {
        "id": "fLa6nsHZ4SoA"
      },
      "source": [
        "**Import dataset**"
      ]
    },
    {
      "cell_type": "code",
      "execution_count": null,
      "metadata": {
        "id": "NEHNZwsjYeex"
      },
      "outputs": [],
      "source": [
        "df = pd.read_csv('/content/gdrive/My Drive/Data/combinedData.csv')\n",
        "df.pop('id')\n",
        "df.pop('Unnamed: 0')\n",
        "df['text'] = df['text'].astype(str)"
      ]
    },
    {
      "cell_type": "markdown",
      "metadata": {
        "id": "Fe9sjheRHBJc"
      },
      "source": [
        "**View the dataset**"
      ]
    },
    {
      "cell_type": "code",
      "execution_count": null,
      "metadata": {
        "colab": {
          "base_uri": "https://localhost:8080/",
          "height": 770
        },
        "id": "OVbN0004zTTu",
        "outputId": "3dfcbb8d-6ff3-4b2b-d9e3-e845790870d9"
      },
      "outputs": [
        {
          "data": {
            "text/html": [
              "<div>\n",
              "<style scoped>\n",
              "    .dataframe tbody tr th:only-of-type {\n",
              "        vertical-align: middle;\n",
              "    }\n",
              "\n",
              "    .dataframe tbody tr th {\n",
              "        vertical-align: top;\n",
              "    }\n",
              "\n",
              "    .dataframe thead th {\n",
              "        text-align: right;\n",
              "    }\n",
              "</style>\n",
              "<table border=\"1\" class=\"dataframe\">\n",
              "  <thead>\n",
              "    <tr style=\"text-align: right;\">\n",
              "      <th></th>\n",
              "      <th>title</th>\n",
              "      <th>text</th>\n",
              "      <th>label</th>\n",
              "    </tr>\n",
              "  </thead>\n",
              "  <tbody>\n",
              "    <tr>\n",
              "      <th>0</th>\n",
              "      <td>Democrat sees bipartisan support for corporate tax reform</td>\n",
              "      <td>WASHINGTON (Reuters) - U.S. President Donald Trump could find Democratic support for a corporate tax reform package if a comprehensive tax code overhaul runs aground over Republican infighting, a Democratic lawmaker told Reuters on Friday. Representative John Yarmuth, top Democrat on the House of Representatives Budget Committee, predicted Trump’s promise to deliver the biggest tax reform since Ronald Reagan would have to be scaled back if the Republican-controlled Senate fails next week to adopt legislation dismantling Obamacare, formally known as the Affordable Care Act. The Trump administration and Republican congressional leaders are trying to agree in closed-door talks on a comprehensive 2017 tax reform bill that would cut taxes for individuals and businesses and overhaul the U.S. tax code. Their aim is to unveil legislation in September.  But a Republican effort to dismantle the Affordable Care Act, which would could ease the path to tax reform, faces difficulties in the Sena...</td>\n",
              "      <td>1 (Real)</td>\n",
              "    </tr>\n",
              "    <tr>\n",
              "      <th>1</th>\n",
              "      <td>U.S. budget deficit to reach $600 billion in 2016: White House</td>\n",
              "      <td>WASHINGTON (Reuters) - The U.S. budget deficit is projected to rise to $600 billion in 2016, $16 billion less than previously expected, the White House Office of Management and Budget said on Friday. In a mid-session review, the administration said the 2016 deficit is now projected to be 3.3 percent of Gross Domestic Product (GDP).</td>\n",
              "      <td>1 (Real)</td>\n",
              "    </tr>\n",
              "    <tr>\n",
              "      <th>2</th>\n",
              "      <td>Fox Host Already Using Tragic EgyptAir Crash As A Way To Boost Trump (VIDEO)</td>\n",
              "      <td>Just when you think the right-wing shills at Fox News couldn t possibly get anymore despicable, they go and do just that. By now, everyone has heard of the tragic crash of EgyptAir flight 804 in the vicinity of the Mediterranean Sea after it disappeared from the radar Wednesday night en route from Paris to Cairo. While the rest of the world is reeling from this tragic event, Fox Business host Stuart Varney is busy trying turn it into a way to help elect Donald Trump.Appearing on Fox and Friends less than 24 hours later, Varney insisted that this plane crash would somehow encourage the refugee crisis.  He went on to say: I also think this may be good politically for Donald Trump. He s already tweeted out, saying this is probably terrorism.He s the guy who is saying, hands off, keep Muslims out temporarily whist we figure out who comes in. An incident of this type is surely a plus for Donald Trump. So, in other words, it seems that this imbecile is actually glad that this plane crash...</td>\n",
              "      <td>0 (Fake)</td>\n",
              "    </tr>\n",
              "    <tr>\n",
              "      <th>3</th>\n",
              "      <td>Trump Just Lost His Damn Mind On Twitter After Bernie Endorsed Hillary (TWEETS)</td>\n",
              "      <td>After finding out that Senator Bernie Sanders (I-VT) was endorsing Hillary Clinton for president on Tuesday morning, Donald Trump took to Twitter, as he always does, to try to lure in as many angry Bernie supporters as possible. He put out such a tweet storm that it actually appeared that he lost his damn mind more than he already likely has.In a series of tweets, Trump showed how desperately he is trying to pander to Bernie Sanders voters who are mad at the Senator from Vermont for endorsing Hillary Clinton. It s so obvious, in fact, that he s trying to play to that crowd, that if it works, it probably says more about those who could so easily switch to the anti-Bernie that is Trump, than it actually says about Trump himself.He tweeted:Bernie Sanders, who has lost most of his leverage, has totally sold out to Crooked Hillary Clinton. He will endorse her today   fans angry!  Donald J. Trump (@realDonaldTrump) July 12, 2016I am somewhat surprised that Bernie Sanders was not true to ...</td>\n",
              "      <td>0 (Fake)</td>\n",
              "    </tr>\n",
              "    <tr>\n",
              "      <th>4</th>\n",
              "      <td>HOLLYWOOD RACE WAR HEATS UP: Full Metal Jacket Actor SHUTS DOWN Race-Baiting Hotel Rwanda Star</td>\n",
              "      <td>Nice job Adam Baldwin. We commend you for standing up to the highly successful, black multi-millionaires Jada Pinkett-Smith,  her husband Will Smith and Director Spike Lee who, much like Al Sharpton never lets the opportunity to start a good race war go to waste  Ever since the Motion Picture Academy announced the nominees for the 2016 Oscars, there have been some heated discussions on social media regarding the diversity   or lack thereof   displayed by the Academy s choices.Nowhere has this been more apparent than Twitter, where #OscarsSoWhite has become an ongoing trend. It recently led to a dustup between  Full Metal Jacket  alum Adam Baldwin and  Ironman  actor Don Cheadle. Via: IJRHere is the first joke dig at the Academy Award show by Cheadle:@chrisrock Yo, Chris. Come check me out at #TheOscars this year. They got me parking cars on G level.  Don Cheadle (@DonCheadle) January 17, 2016Baldwin responded:https://twitter.com/AdamBaldwin/status/688841370853740544Then Cheadle res...</td>\n",
              "      <td>0 (Fake)</td>\n",
              "    </tr>\n",
              "  </tbody>\n",
              "</table>\n",
              "</div>"
            ],
            "text/plain": [
              "                                                                                            title  ...     label\n",
              "0                                       Democrat sees bipartisan support for corporate tax reform  ...  1 (Real)\n",
              "1                                  U.S. budget deficit to reach $600 billion in 2016: White House  ...  1 (Real)\n",
              "2                    Fox Host Already Using Tragic EgyptAir Crash As A Way To Boost Trump (VIDEO)  ...  0 (Fake)\n",
              "3                 Trump Just Lost His Damn Mind On Twitter After Bernie Endorsed Hillary (TWEETS)  ...  0 (Fake)\n",
              "4  HOLLYWOOD RACE WAR HEATS UP: Full Metal Jacket Actor SHUTS DOWN Race-Baiting Hotel Rwanda Star  ...  0 (Fake)\n",
              "\n",
              "[5 rows x 3 columns]"
            ]
          },
          "execution_count": 8,
          "metadata": {
            "tags": []
          },
          "output_type": "execute_result"
        }
      ],
      "source": [
        "dfDisplay = df\n",
        "dfDisplay['label'] = dfDisplay['label'].map({1: '1 (Real)', 0: '0 (Fake)'})\n",
        "pd.set_option('max_rows', 100)\n",
        "pd.set_option('max_colwidth', 1000)\n",
        "dfDisplay[['title', 'text', 'label']].head()"
      ]
    },
    {
      "cell_type": "markdown",
      "metadata": {
        "id": "RBLxRhK54YDj"
      },
      "source": [
        "**Display distribution**"
      ]
    },
    {
      "cell_type": "code",
      "execution_count": null,
      "metadata": {
        "colab": {
          "base_uri": "https://localhost:8080/",
          "height": 281
        },
        "id": "6kuUd_SBv7Ad",
        "outputId": "6f45afb6-956d-4e6b-fe78-403a335da5d3"
      },
      "outputs": [
        {
          "data": {
            "text/plain": [
              "Text(0.5, 1.0, 'Fake vs Real News')"
            ]
          },
          "execution_count": 4,
          "metadata": {
            "tags": []
          },
          "output_type": "execute_result"
        },
        {
          "data": {
            "image/png": "[encoded data removed]",
            "text/plain": [
              "<Figure size 432x288 with 1 Axes>"
            ]
          },
          "metadata": {
            "tags": []
          },
          "output_type": "display_data"
        }
      ],
      "source": [
        "ax = df['label'].value_counts().plot(kind='pie', autopct='%1.0f%%', labels=['0 (Fake)','1 (Real)'])\n",
        "ax.set_xlabel('')\n",
        "ax.set_ylabel('')\n",
        "ax.set_title('Fake vs Real News')"
      ]
    },
    {
      "cell_type": "markdown",
      "metadata": {
        "id": "-TCQ_TZ6deih"
      },
      "source": [
        "# (2) Data Preparation"
      ]
    },
    {
      "cell_type": "markdown",
      "metadata": {
        "id": "TMVSiBEvapb9"
      },
      "source": [
        "**Remove location, publisher, URLs**"
      ]
    },
    {
      "cell_type": "code",
      "execution_count": null,
      "metadata": {
        "id": "9OKpBB6o8_Ii"
      },
      "outputs": [],
      "source": [
        "def removeLocPubURL(df):\n",
        "    fullText = []\n",
        "    publisher = []\n",
        "    for txt in (range(len(df))):\n",
        "        text = df.iloc[txt].text\n",
        "        try:\n",
        "            splitText = text.split(\" -\", maxsplit=1)\n",
        "            splitText[1] = re.sub(r'^https?:\\/\\/.*[\\r\\n]*', '', splitText[1], flags=re.MULTILINE)\n",
        "            fullText.append(splitText[1])\n",
        "            publisher.append(splitText[0])\n",
        "        except:\n",
        "            fullText.append(text)\n",
        "            publisher.append('')\n",
        "\n",
        "    return fullText\n",
        "\n",
        "df['text'] = removeLocPubURL(df)"
      ]
    },
    {
      "cell_type": "markdown",
      "metadata": {
        "id": "rtpBpSNvd3Vp"
      },
      "source": [
        "**Remove punctuation**\n",
        "\n",
        "Examples: !\"#$%&'()*+,-./:;<=>?@[\\]^_`{|}~"
      ]
    },
    {
      "cell_type": "code",
      "execution_count": null,
      "metadata": {
        "id": "AMhW6NgKtgpo"
      },
      "outputs": [],
      "source": [
        "def remove_punctuations(text):\n",
        "    for punctuation in string.punctuation:\n",
        "        \n",
        "        text = text.replace(punctuation, '')\n",
        "    return text\n",
        "\n",
        "df['text'] = df['text'].apply(remove_punctuations)"
      ]
    },
    {
      "cell_type": "markdown",
      "metadata": {
        "id": "hKlNaFY8d9bD"
      },
      "source": [
        "**Remove stop words**\n",
        "\n",
        "Examples: \n",
        "\n",
        "'i', 'me', 'my', 'myself', 'we', 'our', 'ours', 'ourselves', 'you', \"you're\", \"you've\", \"you'll\", \"you'd\","
      ]
    },
    {
      "cell_type": "code",
      "execution_count": null,
      "metadata": {
        "id": "NSCHOcEDxSUC"
      },
      "outputs": [],
      "source": [
        "def remove_stop_words(text):\n",
        "    for word in stopwords.words('english'):\n",
        "        word = ' ' + word + ' '\n",
        "        text = text.replace(word, ' ')\n",
        "    return text\n",
        "\n",
        "df['text'] = df['text'].apply(remove_stop_words)"
      ]
    },
    {
      "cell_type": "markdown",
      "metadata": {
        "id": "Yb3aFBEtds81"
      },
      "source": [
        "**Convert text to lowercase**"
      ]
    },
    {
      "cell_type": "code",
      "execution_count": null,
      "metadata": {
        "id": "pLGgeWDadx8t"
      },
      "outputs": [],
      "source": [
        "def lowerCase(df):\n",
        "    return df['text'].str.lower()\n",
        "\n",
        "df['text'] = lowerCase(df)"
      ]
    },
    {
      "cell_type": "markdown",
      "metadata": {
        "id": "dls7XmVaeDnB"
      },
      "source": [
        "**Lemmatization**\n",
        "\n",
        "Example: \n",
        "**studies, studying, studied** turns into the lemma - **study**"
      ]
    },
    {
      "cell_type": "code",
      "execution_count": null,
      "metadata": {
        "id": "TmQb-E_28hxe"
      },
      "outputs": [],
      "source": [
        "def lemmatization(text):\n",
        "    final_text = []\n",
        "    lemma = nltk.WordNetLemmatizer()\n",
        "    text = nltk.word_tokenize(text)\n",
        "    for word in text: \n",
        "        wordAppend = lemma.lemmatize(word)\n",
        "        final_text.append(wordAppend)\n",
        "    return ' '.join(final_text)\n",
        "\n",
        "df['text'] = df['text'].apply(remove_stop_words)"
      ]
    },
    {
      "cell_type": "markdown",
      "metadata": {
        "id": "Qm-OPHIGeOqy"
      },
      "source": [
        "**Split dataset into training, validation, and testing**"
      ]
    },
    {
      "cell_type": "code",
      "execution_count": null,
      "metadata": {
        "colab": {
          "base_uri": "https://localhost:8080/"
        },
        "id": "uGdPhfuorKuR",
        "outputId": "fead35c4-5778-4021-bb1e-4ad9b1503e6a"
      },
      "outputs": [
        {
          "name": "stdout",
          "output_type": "stream",
          "text": [
            "---------------------------------------------\n",
            "Total Samples: 65698\n",
            "---------------------------------------------\n",
            "Training Samples: 39418\n",
            "Validation Samples: 13140\n",
            "Testing Samples: 13140\n"
          ]
        }
      ],
      "source": [
        "y = df.pop('label')\n",
        "X = df\n",
        "\n",
        "X_train, X_test, y_train, y_test = train_test_split(X, y, test_size = 0.4, random_state=42, shuffle=True)\n",
        "\n",
        "X_validation, X_test, y_validation, y_test = train_test_split(X_test, y_test, test_size = 0.5, random_state=42, shuffle=True)\n",
        "\n",
        "print('---------------------------------------------')\n",
        "print('Total Samples:', len(y))\n",
        "print('---------------------------------------------')\n",
        "print('Training Samples:', len(X_train))\n",
        "print('Validation Samples:', len(X_validation))\n",
        "print('Testing Samples:', len(X_test))"
      ]
    },
    {
      "cell_type": "markdown",
      "metadata": {
        "id": "xFsNz7iMM_S8"
      },
      "source": [
        "**Data preprocessing**"
      ]
    },
    {
      "cell_type": "code",
      "execution_count": null,
      "metadata": {
        "id": "KTvbvznLsmTD"
      },
      "outputs": [],
      "source": [
        "vocabSize = 15000\n",
        "embeddingDim = 32\n",
        "maxLength = 300\n",
        "paddingType='post'\n",
        "truncType='post'\n",
        "oovToken = \"<OOV>\"\n",
        "\n",
        "tokenizer = Tokenizer(num_words=vocabSize, oov_token=oovToken)\n",
        "tokenizer.fit_on_texts(X_train.text)\n",
        "\n",
        "word_index = tokenizer.word_index\n",
        "\n",
        "training_sequences = tokenizer.texts_to_sequences(X_train.text)\n",
        "training_padded = pad_sequences(training_sequences, maxlen=maxLength, padding=paddingType, truncating=truncType)\n",
        "\n",
        "validation_sequences = tokenizer.texts_to_sequences(X_validation.text)\n",
        "validation_padded = pad_sequences(validation_sequences, maxlen=maxLength, padding=paddingType, truncating=truncType)\n",
        "\n",
        "test_sequences = tokenizer.texts_to_sequences(X_test.text)\n",
        "test_padded = pad_sequences(test_sequences, maxlen=maxLength, padding=paddingType, truncating=truncType)"
      ]
    },
    {
      "cell_type": "markdown",
      "metadata": {
        "id": "ODfLKGFBekFy"
      },
      "source": [
        "# (3) Choosing a model"
      ]
    },
    {
      "cell_type": "code",
      "execution_count": null,
      "metadata": {
        "id": "bl7jzQ0YER6F"
      },
      "outputs": [],
      "source": [
        "model = tf.keras.Sequential([\n",
        "    tf.keras.layers.Embedding(vocabSize, output_dim=embeddingDim, input_length=maxLength),\n",
        "    tf.keras.layers.LSTM(128, return_sequences=True), \n",
        "    tf.keras.layers.Dropout(0.2),\n",
        "    tf.keras.layers.LSTM(64), \n",
        "\n",
        "    tf.keras.layers.Dense(32, activation='relu'),\n",
        "    tf.keras.layers.Dense(1, activation='sigmoid')\n",
        "])\n",
        "model.compile(loss='binary_crossentropy', optimizer=keras.optimizers.Adam(learning_rate=0.01), metrics=['accuracy'])"
      ]
    },
    {
      "cell_type": "code",
      "execution_count": null,
      "metadata": {
        "colab": {
          "base_uri": "https://localhost:8080/",
          "height": 1000
        },
        "id": "S56ddJanwguk",
        "outputId": "66518b08-7b84-46cf-b308-4f18f89386e8"
      },
      "outputs": [
        {
          "name": "stdout",
          "output_type": "stream",
          "text": [
            "Model: \"sequential\"\n",
            "_________________________________________________________________\n",
            "Layer (type)                 Output Shape              Param #   \n",
            "=================================================================\n",
            "embedding (Embedding)        (None, 300, 32)           480000    \n",
            "_________________________________________________________________\n",
            "lstm (LSTM)                  (None, 300, 128)          82432     \n",
            "_________________________________________________________________\n",
            "dropout (Dropout)            (None, 300, 128)          0         \n",
            "_________________________________________________________________\n",
            "lstm_1 (LSTM)                (None, 64)                49408     \n",
            "_________________________________________________________________\n",
            "dense (Dense)                (None, 32)                2080      \n",
            "_________________________________________________________________\n",
            "dense_1 (Dense)              (None, 1)                 33        \n",
            "=================================================================\n",
            "Total params: 613,953\n",
            "Trainable params: 613,953\n",
            "Non-trainable params: 0\n",
            "_________________________________________________________________\n"
          ]
        },
        {
          "data": {
            "image/png": "[encoded data removed]",
            "text/plain": [
              "<IPython.core.display.Image object>"
            ]
          },
          "execution_count": 13,
          "metadata": {
            "tags": []
          },
          "output_type": "execute_result"
        }
      ],
      "source": [
        "model.summary()\n",
        "tf.keras.utils.plot_model(model, show_shapes=False)"
      ]
    },
    {
      "cell_type": "markdown",
      "metadata": {
        "id": "xcSfNuxTW-i-"
      },
      "source": [
        "# (4) Training"
      ]
    },
    {
      "cell_type": "code",
      "execution_count": null,
      "metadata": {
        "colab": {
          "base_uri": "https://localhost:8080/"
        },
        "id": "hFCgw6VysiYA",
        "outputId": "2703c07e-388e-40b6-d951-643542fb4a71"
      },
      "outputs": [
        {
          "name": "stdout",
          "output_type": "stream",
          "text": [
            "Epoch 1/15\n",
            "154/154 [==============================] - 16s 72ms/step - loss: 0.6620 - accuracy: 0.5949 - val_loss: 0.6181 - val_accuracy: 0.6500\n",
            "Epoch 2/15\n",
            "154/154 [==============================] - 10s 67ms/step - loss: 0.6221 - accuracy: 0.6561 - val_loss: 0.5162 - val_accuracy: 0.7492\n",
            "Epoch 3/15\n",
            "154/154 [==============================] - 10s 67ms/step - loss: 0.3739 - accuracy: 0.8410 - val_loss: 0.6622 - val_accuracy: 0.5572\n",
            "Epoch 4/15\n",
            "154/154 [==============================] - 10s 66ms/step - loss: 0.4004 - accuracy: 0.7809 - val_loss: 0.1115 - val_accuracy: 0.9650\n",
            "Epoch 5/15\n",
            "154/154 [==============================] - 10s 67ms/step - loss: 0.0517 - accuracy: 0.9840 - val_loss: 0.0634 - val_accuracy: 0.9796\n",
            "Epoch 6/15\n",
            "154/154 [==============================] - 10s 67ms/step - loss: 0.0214 - accuracy: 0.9937 - val_loss: 0.0686 - val_accuracy: 0.9801\n",
            "Epoch 7/15\n",
            "154/154 [==============================] - 10s 67ms/step - loss: 0.0179 - accuracy: 0.9949 - val_loss: 0.1403 - val_accuracy: 0.9622\n",
            "Epoch 8/15\n",
            "154/154 [==============================] - 10s 67ms/step - loss: 0.0143 - accuracy: 0.9954 - val_loss: 0.0727 - val_accuracy: 0.9814\n",
            "Epoch 9/15\n",
            "154/154 [==============================] - 10s 67ms/step - loss: 0.0064 - accuracy: 0.9982 - val_loss: 0.0842 - val_accuracy: 0.9795\n",
            "Epoch 10/15\n",
            "154/154 [==============================] - 10s 67ms/step - loss: 0.0136 - accuracy: 0.9961 - val_loss: 0.0882 - val_accuracy: 0.9818\n",
            "Epoch 11/15\n",
            "154/154 [==============================] - 10s 68ms/step - loss: 0.0035 - accuracy: 0.9992 - val_loss: 0.0820 - val_accuracy: 0.9798\n",
            "Epoch 12/15\n",
            "154/154 [==============================] - 10s 68ms/step - loss: 0.0039 - accuracy: 0.9992 - val_loss: 0.1031 - val_accuracy: 0.9782\n",
            "Epoch 13/15\n",
            "154/154 [==============================] - 10s 68ms/step - loss: 0.0033 - accuracy: 0.9992 - val_loss: 0.1518 - val_accuracy: 0.9615\n",
            "Epoch 14/15\n",
            "154/154 [==============================] - 10s 68ms/step - loss: 0.0069 - accuracy: 0.9979 - val_loss: 0.0894 - val_accuracy: 0.9826\n",
            "Epoch 15/15\n",
            "154/154 [==============================] - 10s 68ms/step - loss: 0.0023 - accuracy: 0.9996 - val_loss: 0.1721 - val_accuracy: 0.9716\n"
          ]
        }
      ],
      "source": [
        "epochs = 15\n",
        "history = model.fit(training_padded, y_train, epochs=epochs, validation_data=(validation_padded, y_validation), batch_size=256, shuffle=True, verbose=1)"
      ]
    },
    {
      "cell_type": "markdown",
      "metadata": {
        "id": "hfDrygY7qRII"
      },
      "source": [
        "**Plot training results**"
      ]
    },
    {
      "cell_type": "code",
      "execution_count": null,
      "metadata": {
        "colab": {
          "base_uri": "https://localhost:8080/",
          "height": 541
        },
        "id": "t2Em36v_J7V0",
        "outputId": "a474095a-abc1-422c-8a35-4d8d34f1b281"
      },
      "outputs": [
        {
          "data": {
            "image/png": "[encoded data removed]",
            "text/plain": [
              "<Figure size 432x288 with 1 Axes>"
            ]
          },
          "metadata": {
            "needs_background": "light",
            "tags": []
          },
          "output_type": "display_data"
        },
        {
          "data": {
            "image/png": "[encoded data removed]",
            "text/plain": [
              "<Figure size 432x288 with 1 Axes>"
            ]
          },
          "metadata": {
            "needs_background": "light",
            "tags": []
          },
          "output_type": "display_data"
        }
      ],
      "source": [
        "plt.plot(history.history['loss'])\n",
        "plt.plot(history.history['val_loss'])\n",
        "plt.xlabel('Number of Epochs')\n",
        "plt.ylabel('Loss')\n",
        "plt.legend(['Training', 'Validation'])\n",
        "plt.show()\n",
        "\n",
        "plt.plot(history.history['accuracy'])\n",
        "plt.plot(history.history['val_accuracy'])\n",
        "plt.xlabel('Number of Epochs')\n",
        "plt.ylabel('Accuracy')\n",
        "plt.legend(['Training', 'Validation'])\n",
        "plt.show()"
      ]
    },
    {
      "cell_type": "markdown",
      "metadata": {
        "id": "unynXma1eqWj"
      },
      "source": [
        "# (5) Evaluation"
      ]
    },
    {
      "cell_type": "code",
      "execution_count": null,
      "metadata": {
        "colab": {
          "base_uri": "https://localhost:8080/",
          "height": 134
        },
        "id": "HSOABndMbyWd",
        "outputId": "04dd524e-8d9f-4b0e-b7db-d48ceab7d857"
      },
      "outputs": [
        {
          "name": "stdout",
          "output_type": "stream",
          "text": [
            "1232/1232 [==============================] - 15s 12ms/step - loss: 0.0542 - accuracy: 0.9918\n",
            "Training Data Accuracy: 99.18%\n",
            "411/411 [==============================] - 5s 12ms/step - loss: 0.1721 - accuracy: 0.9716\n",
            "Validation Data Accuracy: 97.16%\n",
            "411/411 [==============================] - 5s 12ms/step - loss: 0.1487 - accuracy: 0.9761\n"
          ]
        },
        {
          "data": {
            "text/markdown": [
              "**Testing Data Accuracy: 97.61%**"
            ],
            "text/plain": [
              "<IPython.core.display.Markdown object>"
            ]
          },
          "metadata": {
            "tags": []
          },
          "output_type": "display_data"
        }
      ],
      "source": [
        "print(\"Training Data Accuracy: \" + str(round(model.evaluate(training_padded, y_train)[1]*100, 2)) + \"%\")\n",
        "print(\"Validation Data Accuracy: \" + str(round(model.evaluate(validation_padded, y_validation)[1]*100, 2)) + \"%\")\n",
        "printBold(\"Testing Data Accuracy: \" + str(round(model.evaluate(test_padded, y_test)[1]*100, 2)) + \"%\")"
      ]
    },
    {
      "cell_type": "markdown",
      "metadata": {
        "id": "0t7x7ll9q1_i"
      },
      "source": [
        "**Other evaluation methods**"
      ]
    },
    {
      "cell_type": "code",
      "execution_count": null,
      "metadata": {
        "colab": {
          "base_uri": "https://localhost:8080/"
        },
        "id": "iKJW5GdZeWsz",
        "outputId": "331ff2e0-9fc7-4cef-8a2d-efa80f9a01c9"
      },
      "outputs": [
        {
          "name": "stderr",
          "output_type": "stream",
          "text": [
            "/usr/local/lib/python3.7/dist-packages/tensorflow/python/keras/engine/sequential.py:450: UserWarning: `model.predict_classes()` is deprecated and will be removed after 2021-01-01. Please use instead:* `np.argmax(model.predict(x), axis=-1)`,   if your model does multi-class classification   (e.g. if it uses a `softmax` last-layer activation).* `(model.predict(x) > 0.5).astype(\"int32\")`,   if your model does binary classification   (e.g. if it uses a `sigmoid` last-layer activation).\n",
            "  warnings.warn('`model.predict_classes()` is deprecated and '\n"
          ]
        },
        {
          "name": "stdout",
          "output_type": "stream",
          "text": [
            "              precision    recall  f1-score   support\n",
            "\n",
            "        Fake       0.96      0.99      0.98      6762\n",
            "        Real       0.99      0.96      0.97      6378\n",
            "\n",
            "    accuracy                           0.98     13140\n",
            "   macro avg       0.98      0.98      0.98     13140\n",
            "weighted avg       0.98      0.98      0.98     13140\n",
            "\n"
          ]
        }
      ],
      "source": [
        "y_pred = model.predict_classes(test_padded)\n",
        "print(classification_report(y_test, y_pred, target_names = ['Fake', 'Real']))"
      ]
    },
    {
      "cell_type": "markdown",
      "metadata": {
        "id": "iQsBxA3Mq4nX"
      },
      "source": [
        "**Confusion matrix**"
      ]
    },
    {
      "cell_type": "code",
      "execution_count": null,
      "metadata": {
        "colab": {
          "base_uri": "https://localhost:8080/",
          "height": 369
        },
        "id": "AuXApc8ugL6C",
        "outputId": "74c8d697-8d39-4645-fe1d-594f72d03b43"
      },
      "outputs": [
        {
          "name": "stdout",
          "output_type": "stream",
          "text": [
            "Recall score: 0.96\n",
            "Precision score: 0.99\n"
          ]
        },
        {
          "data": {
            "image/png": "[encoded data removed]",
            "text/plain": [
              "<Figure size 360x360 with 2 Axes>"
            ]
          },
          "metadata": {
            "needs_background": "light",
            "tags": []
          },
          "output_type": "display_data"
        }
      ],
      "source": [
        "ar = metrics.confusion_matrix(y_test, y_pred)\n",
        "\n",
        "conMat = pd.DataFrame(ar, index=[0,1], columns=[0,1])\n",
        "conMat.index.name = 'Actual'\n",
        "conMat.columns.name = 'Predicted'\n",
        "\n",
        "plt.figure(figsize = (5, 5))\n",
        "sns.heatmap(conMat,cmap= \"Greens\", annot = True, fmt='')\n",
        "\n",
        "precision_score = precision_score(y_test, y_pred)\n",
        "recall_score = recall_score(y_test, y_pred)\n",
        "\n",
        "print('Recall score: ' + str(round(recall_score, 2)))\n",
        "print('Precision score: ' + str(round(precision_score, 2)))"
      ]
    },
    {
      "cell_type": "markdown",
      "metadata": {
        "id": "iUgqkLgyLSea"
      },
      "source": [
        "# (6) Parameter Tuning\n",
        "\n",
        "Completed throughout the project"
      ]
    },
    {
      "cell_type": "markdown",
      "metadata": {
        "id": "DxOCV0G7LcBW"
      },
      "source": [
        "# (7) Prediction"
      ]
    },
    {
      "cell_type": "markdown",
      "metadata": {
        "id": "EtsbRCUf5B4X"
      },
      "source": [
        "**Import data**"
      ]
    },
    {
      "cell_type": "code",
      "execution_count": null,
      "metadata": {
        "id": "mlxN_bXqYIly"
      },
      "outputs": [],
      "source": [
        "prediction = pd.read_csv('/content/gdrive/My Drive/Data/prediction.csv')\n",
        "predictionPrint = pd.read_csv('/content/gdrive/My Drive/Data/prediction.csv')\n",
        "\n",
        "friend = pd.read_csv('/content/gdrive/My Drive/Data/friendResult.csv')\n",
        "friendPrint = pd.read_csv('/content/gdrive/My Drive/Data/friendResult.csv')"
      ]
    },
    {
      "cell_type": "markdown",
      "metadata": {
        "id": "6BBxRJIi5Fo7"
      },
      "source": [
        "**Proprocess data**"
      ]
    },
    {
      "cell_type": "code",
      "execution_count": null,
      "metadata": {
        "id": "psF37c8RK08f"
      },
      "outputs": [],
      "source": [
        "prediction['text'] = removeLocPubURL(prediction)\n",
        "prediction['text'] = lowerCase(prediction)\n",
        "prediction['text'] = prediction['text'].astype(str).apply(remove_punctuations)\n",
        "prediction['text'] = prediction['text'].apply(remove_stop_words)\n",
        "prediction['text'] = prediction['text'].apply(remove_stop_words)\n",
        "prediction_sequences = tokenizer.texts_to_sequences(prediction.text)\n",
        "prediction_padded = pad_sequences(prediction_sequences, maxlen=maxLength, padding=paddingType, truncating=truncType)\n",
        "\n",
        "friend['text'] = removeLocPubURL(friend)\n",
        "friend['text'] = lowerCase(friend)\n",
        "friend['text'] = friend['text'].astype(str).apply(remove_punctuations)\n",
        "friend['text'] = friend['text'].apply(remove_stop_words)\n",
        "friend['text'] = friend['text'].apply(remove_stop_words)\n",
        "friend_sequences = tokenizer.texts_to_sequences(friend.text)\n",
        "friend_padded = pad_sequences(friend_sequences, maxlen=maxLength, padding=paddingType, truncating=truncType)"
      ]
    },
    {
      "cell_type": "markdown",
      "metadata": {
        "id": "hsY_pw_g5Q8U"
      },
      "source": [
        "**Predict using model**"
      ]
    },
    {
      "cell_type": "code",
      "execution_count": null,
      "metadata": {
        "colab": {
          "base_uri": "https://localhost:8080/"
        },
        "id": "45rXJjWrspiH",
        "outputId": "7e663cbe-05b7-4a5f-b35c-e285269becc1"
      },
      "outputs": [
        {
          "name": "stderr",
          "output_type": "stream",
          "text": [
            "/usr/local/lib/python3.7/dist-packages/tensorflow/python/keras/engine/sequential.py:450: UserWarning: `model.predict_classes()` is deprecated and will be removed after 2021-01-01. Please use instead:* `np.argmax(model.predict(x), axis=-1)`,   if your model does multi-class classification   (e.g. if it uses a `softmax` last-layer activation).* `(model.predict(x) > 0.5).astype(\"int32\")`,   if your model does binary classification   (e.g. if it uses a `sigmoid` last-layer activation).\n",
            "  warnings.warn('`model.predict_classes()` is deprecated and '\n"
          ]
        }
      ],
      "source": [
        "y_pred = model.predict_classes(prediction_padded)\n",
        "y_predFriend = model.predict_classes(friend_padded)"
      ]
    },
    {
      "cell_type": "code",
      "execution_count": null,
      "metadata": {
        "id": "R8L2hGcGY-ws"
      },
      "outputs": [],
      "source": [
        "def predictions(y_pred, df):\n",
        "    for i in range(len(y_pred)):\n",
        "        print()\n",
        "        print('===============================================================================')\n",
        "        if y_pred[i] == 0:\n",
        "            printBold('FAKE NEWS')\n",
        "        if y_pred[i] == 1:\n",
        "            printBold('REAL NEWS')\n",
        "        print()\n",
        "        printBold('Title:')\n",
        "        print(df.iloc[i].title)\n",
        "        printBold('Text:')\n",
        "        print(df.iloc[i].text)"
      ]
    },
    {
      "cell_type": "markdown",
      "metadata": {
        "id": "ZyNjNOnz5abv"
      },
      "source": [
        "**Predict on collected samples**"
      ]
    },
    {
      "cell_type": "code",
      "execution_count": null,
      "metadata": {
        "colab": {
          "base_uri": "https://localhost:8080/",
          "height": 1000
        },
        "id": "IJSoxHp6y7Cl",
        "outputId": "71fafba0-af58-4a40-d6bd-adaf8bac349b"
      },
      "outputs": [
        {
          "name": "stdout",
          "output_type": "stream",
          "text": [
            "\n",
            "===============================================================================\n"
          ]
        },
        {
          "data": {
            "text/markdown": [
              "**REAL NEWS**"
            ],
            "text/plain": [
              "<IPython.core.display.Markdown object>"
            ]
          },
          "metadata": {
            "tags": []
          },
          "output_type": "display_data"
        },
        {
          "name": "stdout",
          "output_type": "stream",
          "text": [
            "\n"
          ]
        },
        {
          "data": {
            "text/markdown": [
              "**Title:**"
            ],
            "text/plain": [
              "<IPython.core.display.Markdown object>"
            ]
          },
          "metadata": {
            "tags": []
          },
          "output_type": "display_data"
        },
        {
          "name": "stdout",
          "output_type": "stream",
          "text": [
            "Hidden Hate: Exposing the roots of anti-Asian racism in Canada\n"
          ]
        },
        {
          "data": {
            "text/markdown": [
              "**Text:**"
            ],
            "text/plain": [
              "<IPython.core.display.Markdown object>"
            ]
          },
          "metadata": {
            "tags": []
          },
          "output_type": "display_data"
        },
        {
          "name": "stdout",
          "output_type": "stream",
          "text": [
            "Anti-Asian racism has surged across North America since the COVID-19 pandemic began, but Metro Vancouver has been particularly hard hit. Statistics from the Vancouver Police Department show a 717-per-cent rise in hate crimes against East Asians from 2019 to 2020. A federally-funded study conducted by several groups under the umbrella of the Chinese Canadian National Council for Social Justice found that B.C. has the most reported incidents per capita of any sub-national region in North America. The alarming increase has put many Canadians of East Asian descent on edge. Const. Byron Yee of the Vancouver Police Department has worked in the city’s Chinatown neighbourhood for several years and has seen the hatred firsthand. He said the uptick started last year at the beginning of the pandemic and appears to be heating up again. “In the last couple of months, it seems like things have started increase again,” Yee said. “I’ve had more people approach me talking about fears of the neighbourhood, fears of walking through here, fears of having their elderly family members walk through here. There’s a lot more fear now.” He said that even he has concerns about his own family. “I didn’t worry about my dad coming out here but ever since COVID hit I do worry about him coming out here a lot more,” Yee said. Metro Vancouver is often thought of as Canada’s “most Asian city,” but the sharp rise in attacks has revealed a racist undercurrent that some say has always existed. Andy Yan, director of Simon Fraser University’s City Program, said one of the factors behind deeply-rooted anti-Asian attitudes is the question of Canadian identity. “The history of Canada has been, in certain times, a kind of narrowing of who is a Canadian,” he said. “And I think that how it narrows and broadens itself, that has shaped the kind of country and city that we’ve lived in.” Right now, Yan said, that definition is narrowing. “A lot of this deals with this age of anxiety that we now live in. COVID is, of course, the latest issue to come in that age, but I think prior to this you can imagine that it’s the issue of housing and residential real estate mixed in with the economy and jobs,” he said. Members of Canada’s East Asian community have become very vocal in condemning the rise in racism. Trixie Ching-Hui Ling, the founder of the non-profit refugee support group Flavours of Hope, said it’s important to speak up and stop minimizing the violence. Ling was targeted in May by a man who made racist and sexist comments to her and spat in her face as she passed by him on the sidewalk. Despite what happened to her, she said she is optimistic about the progress that’s being made. “I have a lot of hope because I have seen many Asian leaders speaking up — particularly Asian women speaking up, on the streets, in the media, in their homes, in conversations with friends and their workplaces,” Ling said. “More leaders than ever, particularly women of colour, are speaking up and not being silent and that gives me hope.” While people of East Asian descent are the direct victims of this current outbreak of hate crimes, Yan said racism hurts everyone, even the racists. “In one way, you can think about it as racism is the cage that encapsulates individuals, but systemic racism is the prison that actually traps everyone, all Canadians,” Yan said. “I think in that prison the opposite of racism isn’t necessarily anti-racism, it’s actually liberation and finding how ideas of racism trap us all as Canadians and ultimately undercut our potential as human beings, our identities, our shared passions of what kind of society we want to be and who we are.”\n",
            "\n",
            "===============================================================================\n"
          ]
        },
        {
          "data": {
            "text/markdown": [
              "**REAL NEWS**"
            ],
            "text/plain": [
              "<IPython.core.display.Markdown object>"
            ]
          },
          "metadata": {
            "tags": []
          },
          "output_type": "display_data"
        },
        {
          "name": "stdout",
          "output_type": "stream",
          "text": [
            "\n"
          ]
        },
        {
          "data": {
            "text/markdown": [
              "**Title:**"
            ],
            "text/plain": [
              "<IPython.core.display.Markdown object>"
            ]
          },
          "metadata": {
            "tags": []
          },
          "output_type": "display_data"
        },
        {
          "name": "stdout",
          "output_type": "stream",
          "text": [
            "Indonesia says missing sub sunk, cracked open, killing all 52 members on board\n"
          ]
        },
        {
          "data": {
            "text/markdown": [
              "**Text:**"
            ],
            "text/plain": [
              "<IPython.core.display.Markdown object>"
            ]
          },
          "metadata": {
            "tags": []
          },
          "output_type": "display_data"
        },
        {
          "name": "stdout",
          "output_type": "stream",
          "text": [
            "Indonesia’s navy on Saturday declared its missing submarine had sunk and cracked open, killing 53 crew members aboard, after finding items from the vessel over the past two days. Military chief Hadi Tjahjanto said the presence of an oil slick as well as debris near the site where the submarine’s last dive on Wednesday off the island of Bali were clear proof the KRI Nanggala 402 sank. Indonesia earlier considered the vessel to be only missing. Navy Chief Yudo Margono told a press conference in Bali, “If it’s an explosion, it will be in pieces. The cracks happened gradually in some parts when it went down from 300 metres to 400 metres to 500 metres … If there was an explosion, it would be heard by the sonar.” The navy previously said it believes the submarine sank to a depth of 600-700 metres (2,000-2,300 feet), much deeper than its collapse depth of 200 metres (655 feet), at which point water pressure would be greater than the hull could withstand. The cause of the disappearance was still uncertain. The navy had previously said an electrical failure could have left the submarine unable to execute emergency procedures to resurface. Margono said that in the past two days, searchers found parts of a torpedo straightener, a grease bottle believed to be used to oil the periscope, debris from prayer rugs and a broken piece from a coolant pipe that was refitted on the submarine in South Korea in 2012. “With the authentic evidence we found believed to be from the submarine, we have now moved from the ‘sub miss’ phase to ‘sub sunk,'” Margono said at the press conference, in which the found items were displayed. Margono said rescue teams from Indonesia and other countries will evaluate the findings. He said no bodies have been found so far. Officials previously said the submarine’s oxygen supply would have run out early Saturday. An American reconnaissance plane, a P-8 Poseidon, landed early Saturday and had been set to join the search, along with 20 Indonesian ships, a sonar-equipped Australian warship and four Indonesian aircraft. Singaporean rescue ships were also expected Saturday, while Malaysian rescue vessels were due to arrive Sunday, bolstering the underwater hunt, officials said earlier Saturday. Family members had held out hopes for survivors but there were no sign of life from the vessel. Indonesian President Joko Widodo had ordered all-out efforts to locate the submarine and asked Indonesians to pray for the crew’s safe return. The German-built diesel-powered KRI Nanggala 402 has been in service in Indonesia since 1981 and was carrying 49 crew members and three gunners as well as its commander, the Indonesian Defence Ministry said. Indonesia, the world’s largest archipelago nation with more than 17,000 islands, has faced growing challenges to its maritime claims in recent years, including numerous incidents involving Chinese vessels near the Natuna islands.\n",
            "\n",
            "===============================================================================\n"
          ]
        },
        {
          "data": {
            "text/markdown": [
              "**REAL NEWS**"
            ],
            "text/plain": [
              "<IPython.core.display.Markdown object>"
            ]
          },
          "metadata": {
            "tags": []
          },
          "output_type": "display_data"
        },
        {
          "name": "stdout",
          "output_type": "stream",
          "text": [
            "\n"
          ]
        },
        {
          "data": {
            "text/markdown": [
              "**Title:**"
            ],
            "text/plain": [
              "<IPython.core.display.Markdown object>"
            ]
          },
          "metadata": {
            "tags": []
          },
          "output_type": "display_data"
        },
        {
          "name": "stdout",
          "output_type": "stream",
          "text": [
            "‘It’s over’: India COVID-19 patients suffocate as cases surge during oxygen shortage\n"
          ]
        },
        {
          "data": {
            "text/markdown": [
              "**Text:**"
            ],
            "text/plain": [
              "<IPython.core.display.Markdown object>"
            ]
          },
          "metadata": {
            "tags": []
          },
          "output_type": "display_data"
        },
        {
          "name": "stdout",
          "output_type": "stream",
          "text": [
            "Indian authorities scrambled Saturday to get oxygen tanks to hospitals where COVID-19 patients were suffocating amid the world’s worst coronavirus surge, as the government came under increasing criticism for what doctors said was its negligence in the face of a foreseeable public health disaster. For the third day in a row, India set a global daily record of new infections. The 346,786 confirmed cases over the past day brought India’s total to more than 16 million, behind only the United States. The Health Ministry reported another 2,624 deaths in the past 24 hours, pushing India’s COVID-19 fatalities to 189,544. Experts say even those figures are likely an undercount. The government ramped up its efforts to get medical oxygen to hospitals using special Oxygen Express trains, air force planes and trucks to transport tankers, and took measures to exempt critical oxygen supplies from customs taxes. But the crisis in the country of nearly 1.4 billion people was only deepening as overburdened hospitals shut admissions and ran out of beds and oxygen supplies. “Every hospital is running out (of oxygen). We are running out,” Dr. Sudhanshu Bankata, executive director of Batra Hospital, a leading hospital in the capital, told New Delhi Television channel. In a sign of the desperation unfolding over the shortages, a high court in Delhi warned Saturday it would “hang” anyone who tries to obstruct the delivery of emergency oxygen supplies, amid evidence that some local authorities were diverting tanks to hospitals in their areas. The court, which was hearing submissions by a group of hospitals over the oxygen shortages, termed the devastating rise in infections a “tsunami.” At least 20 COVID-19 patients at the critical care unit of New Delhi’s Jaipur Golden Hospital died overnight as “oxygen pressure was low,” the Indian Express newspaper reported. “Our supply was delayed by seven-eight hours on Friday night and the stock we received last night is only 40 per cent of the required supply,” the newspaper quoted the hospital’s medical superintendent, Dr. D.K. Baluja, as saying. On Thursday, 25 COVID-19 patients died at the capital’s Sir Ganga Ram Hospital amid suggestions that low oxygen supplies were to blame. India’s infection surge, blamed on a highly contagious variant first detected here, came after Prime Minister Narendra Modi declared victory over the coronavirus in January, telling the virtual gathering of the World Economic Forum that India’s success couldn’t be compared with anywhere else. “In a country which is home to 18 per cent of the world population, that country has saved humanity from a big disaster by containing corona effectively,” Modi said. But health experts and critics say a downward trend in infections late last year lulled authorities into complacency, as they failed to plug the holes in the ailing health care system that had become evident during the first wave. They also blame politicians and government authorities for allowing super-spreader events, including religious festivals and election rallies, to take place as recently as this month. “It’s not the virus variants and mutations which are a key cause of the current rise in infections,” Dr. Anant Bhan, a bioethics and global health expert, tweeted this week. “It’s the variants of ineptitude and abdication of public health thinking by our decision makers.” Dr. Vineeta Bal, who studies immune systems at the Indian Institute of Science Education and Research in Pune city, said that at the heart of India’s “paralyzing” oxygen shortage was the sense of complacency that took hold as cases declined.\n",
            "\n",
            "===============================================================================\n"
          ]
        },
        {
          "data": {
            "text/markdown": [
              "**FAKE NEWS**"
            ],
            "text/plain": [
              "<IPython.core.display.Markdown object>"
            ]
          },
          "metadata": {
            "tags": []
          },
          "output_type": "display_data"
        },
        {
          "name": "stdout",
          "output_type": "stream",
          "text": [
            "\n"
          ]
        },
        {
          "data": {
            "text/markdown": [
              "**Title:**"
            ],
            "text/plain": [
              "<IPython.core.display.Markdown object>"
            ]
          },
          "metadata": {
            "tags": []
          },
          "output_type": "display_data"
        },
        {
          "name": "stdout",
          "output_type": "stream",
          "text": [
            "Top vaccine scientist warns the world: HALT all covid-19 vaccinations immediately, or “uncontrollable monster” will be unleashed\n"
          ]
        },
        {
          "data": {
            "text/markdown": [
              "**Text:**"
            ],
            "text/plain": [
              "<IPython.core.display.Markdown object>"
            ]
          },
          "metadata": {
            "tags": []
          },
          "output_type": "display_data"
        },
        {
          "name": "stdout",
          "output_type": "stream",
          "text": [
            "A top vaccine scientist named Geert Vanden Bossche, who has worked with numerous vaccine corporations and organizations including GAVI, is sounding the alarm over the mass vaccination of populations around the world with covid-19 vaccines. He says covid-19 vaccines are “brilliant” medicine and insists they do work on an individual level, but says they are “the wrong weapon” to be deployed on a global scale when high pressures of infectious pathogens are present. As he tweeted on March 3rd, “I am EXTREMELY concerned about the impact current Covid-19 vaccines will have when increasingly deployed in mass vaccination campaigns conducted in the heat of a pandemic. Read my global WARNING & scientific evidence.” He then gives the following link for his warning: A vaccine industry insider who worked with the Bill & Melinda Gates Foundation Before we get into the presentation and its meaning, let us first take a quick look at the background of Dr. Bossche. A good description is offered by Dryburgh.com, which covered this story in detail: Geert Vanden Bossche, PhD, DVM, is a vaccine research expert. He has a long list of companies and organizations he’s worked with on vaccine discovery and preclinical research, including GSK, Novartis, Solvay Biologicals, and Bill & Melinda Gates Foundation. Dr Vanden Bossche also coordinated the Ebola vaccine program at GAVI (Global Alliance for Vaccines and Immunization). He is board-certified in Virology and Microbiology, the author of over 30 publications, and inventor of a patent application for universal vaccines. He currently works as an independent vaccine research consultant. In other words, you can hardly find someone who is more qualified and experienced as a vaccine industry insider. Notably, Dr. Dossche is obviously pro-vaccine, and not a so-called “anti-vaxxer.” Yet even from his pro-vaccine vantage point, he sees enormous risks and problems with mass vaccinations campaigns even assuming the vaccines work as designed. Dr. Bossche warns the world is creating an “uncontrollable monster” and turning vaccines into “a bioweapon of mass destruction” Here’s an actual quote from Dr. Bossche: One could only think of very few other strategies to achieve the same level of efficiency in turning a relatively harmless virus into a bioweapon of mass destruction. As Dryburgh.com explains: Dr Bossche believes that vaccinologists, clinicians, and scientists are only focusing on short-term results at the individual level and not the consequences at the global population level, which he believes will soon become evident. Evident in the form of  having transformed “a quite harmless virus into an uncontrollable monster”.\n",
            "\n",
            "===============================================================================\n"
          ]
        },
        {
          "data": {
            "text/markdown": [
              "**FAKE NEWS**"
            ],
            "text/plain": [
              "<IPython.core.display.Markdown object>"
            ]
          },
          "metadata": {
            "tags": []
          },
          "output_type": "display_data"
        },
        {
          "name": "stdout",
          "output_type": "stream",
          "text": [
            "\n"
          ]
        },
        {
          "data": {
            "text/markdown": [
              "**Title:**"
            ],
            "text/plain": [
              "<IPython.core.display.Markdown object>"
            ]
          },
          "metadata": {
            "tags": []
          },
          "output_type": "display_data"
        },
        {
          "name": "stdout",
          "output_type": "stream",
          "text": [
            "Vaccines containing mercury are “medical genocide” that target black communities to damage their babies\n"
          ]
        },
        {
          "data": {
            "text/markdown": [
              "**Text:**"
            ],
            "text/plain": [
              "<IPython.core.display.Markdown object>"
            ]
          },
          "metadata": {
            "tags": []
          },
          "output_type": "display_data"
        },
        {
          "name": "stdout",
          "output_type": "stream",
          "text": [
            "The evidence is clear that mercury is still being added to some vaccines, in the form of thimerosal, and yet the mainstream media, along with the establishment medical community, continue to cover it up despite what damage is being done to certain ethnic groups. Vaccine truth activist Robert F. Kennedy, Jr., and Oscar-winning actor Robert De Niro, noted in a recent press conference hosted by investigative reporter Sharyl Attkisson that black communities, in particular, are being targeted in a sort of “medical genocide” aimed at harming black babies with mercury-filled vaccines. “It is the black neighborhoods that are getting the thimerosal vaccines,” Kennedy said at the press conference, held Feb. 15 at the National Press Club in Washington, D.C. “And it appears to be that African-Americans are much more susceptible to vaccine injury than other Americans.” Continuing, he said that poor Americans who have to use publicly-funded clinics will get the cheapest vaccines, and those are the ones that contain thimerosal. In August 2014, Natural News reported not only that MMR vaccines do lead to an increase in autism, but that black babies are 340 percent more likely to develop autism after receiving the shot. And it turns out that the Centers for Disease Control and Prevention knew about it long before the truth came out: As it turns out, the CDC fudged some numbers in a 2003 study it conducted on the MMR vaccine that, if honestly reported, would have revealed a 340 percent increased risk of autism among male African American infants. Kennedy, chairman of the World Mercury Project, noted as well that it was virtually impossible for anyone within the traditional medical establishment to discuss or expose the horrific nature of mercury-laced vaccines, mostly because of the outsized influence of Big Pharma, which makes billions a year off of selling them. As for De Niro, he was actually threatened by the pro-vaccine medical establishment to censor a film, “VAXXED: From Cover-up to Catastrophe,” at his Tribeca Film Festival, an annual event featuring indy films. As Natural News founder/editor Mike Adams, the Health Ranger, reported at the time: There has never been an assault against a documentary film in the history of America like the one we’ve just witnessed over the last 48 hours. The entire mainstream media waged a coordinated, simultaneous attack against the Tribeca Film Festival to censor a film none of them had even seen. In this video published Feb. 15, Adams featured prior audio of CDC whistleblower Dr. William Thompson, who was the first to disclose his agency’s fake science regarding vaccines and mercury content and how they related to a rise in autism. Adams challenged detractors to actually drink mercury if it’s really so safe. He calls them “mercury vaccine pushers.” “If you really think mercury is safe, I challenge you to drink a liter,” he says in the video. “Prove to the world it’s safe to inject into children.”\n",
            "\n",
            "===============================================================================\n"
          ]
        },
        {
          "data": {
            "text/markdown": [
              "**FAKE NEWS**"
            ],
            "text/plain": [
              "<IPython.core.display.Markdown object>"
            ]
          },
          "metadata": {
            "tags": []
          },
          "output_type": "display_data"
        },
        {
          "name": "stdout",
          "output_type": "stream",
          "text": [
            "\n"
          ]
        },
        {
          "data": {
            "text/markdown": [
              "**Title:**"
            ],
            "text/plain": [
              "<IPython.core.display.Markdown object>"
            ]
          },
          "metadata": {
            "tags": []
          },
          "output_type": "display_data"
        },
        {
          "name": "stdout",
          "output_type": "stream",
          "text": [
            "mRNA vaccines may cause your body to churn out PRIONS that “eat your brain” like Mad Cow Disease\n"
          ]
        },
        {
          "data": {
            "text/markdown": [
              "**Text:**"
            ],
            "text/plain": [
              "<IPython.core.display.Markdown object>"
            ]
          },
          "metadata": {
            "tags": []
          },
          "output_type": "display_data"
        },
        {
          "name": "stdout",
          "output_type": "stream",
          "text": [
            "The spike protein outer shell of the coronavirus contains “prion-like regions” that give the virus very high adhesion to ACE2 receptors in the human body. This has been documented by a study entitled, “SARS-CoV-2 Prion-Like Domains in Spike Proteins Enable Higher Affinity to ACE2,” published by the Human Microbiology Institute: The presence and unique distribution of prion-like domains in the SARS-CoV-2 receptor-binding domains of the spike protein is particularly interesting, since although the SARS-CoV-2 and SARS-CoV S proteins share the same host cell receptor, angiotensin-converting enzyme 2 (ACE2), SARS-CoV-2 demonstrates a 10- to 20-fold higher affinity for ACE2 The mRNA vaccine works by hijacking your body’s cells and causing them to churn out proteins modeled after the spike proteins in the SARS-cov-2 coronavirus. Since that structure includes prion-like regions, random errors in mRNA sequences — which may be truncated by the human immune system before they reach the ribosomes in the cells — could cause mRNA vaccine recipients to churn out prions in their own bodies. The risk of this was assessed by Dr. J. Bart Classen, who authored a paper in Microbiology & Infectious Diseases: “Covid-19 RNA Based Vaccines and the Risk of Prion Disease.” You can see the text of the study at this link. That study concludes, “The results indicate that the vaccine RNA has specific sequences that may induce TDP-43 and FUS to fold into their pathologic prion confirmations.” It also explains: The folding of TDP-43 and FUS into their pathologic prion confirmations is known to cause ALS, front temporal lobar degeneration, Alzheimer’s disease and other neurological degenerative diseases. The Mayo Clinic says CJD, the disease caused by prions, is 100% fatal and has no treatment. Some of the symptoms of CJD (prion disease) described by the Mayo Clinic include: Stroke-like symptoms Difficulty speaking Confusion Odd movements Other symptoms include emotional changes, a sharp loss of cognitive function and seeming personality changes. It all ends in death. Once the prion symptoms are evident, it’s already too late. There is no treatment and no reversal possible. mRNA vaccines may unleash a wave of “zombie” prion disease deaths, known as “Mad Cow Disease” in humans (CJD) Because of the mechanisms revealed above, there is a possibility that mRNA vaccines might unleash a wave of neurological disease over the next several years. Victims of this prion disease would appear to have rapid-onset Alzheimer’s, dementia or cognitive decline. This condition could affect millions or even tens of millions of people in the United States alone. This wave of prion disease would, in a way, transform people into “zombies” as the prions “eat their brains.” (For a full discussion of prion protein folding, listen to the full podcast below. Prions don’t actually “eat” brains, but they destroy brain cells in a morphological way.) The entire fake news media insists this is impossible. They say prions can’t be created by mRNA vaccines. Then again, these are the same dangerously false, misleading and deliberately dishonest media outlets that currently claim the coronavirus wasn’t engineered in a Chinese lab, and they simultaneously (and falsely) claim no one has died from covid-19 vaccines. Therefore, the fake news media has zero credibility and is known to lie to cover up the crimes and product safety faults of the vaccine industry. The fact that corporate-run propaganda media outlets claim mRNA vaccines can’t cause prions probably means they can. CNBC is already reporting that 1 in 3 covid “survivors” now has a mental disorder. Are these post-vaccine people? Or is this more to do with the depression caused by lockdowns? Some of the mental outcomes already documented include dementia and anxiety disorders. A mysterious brain-wasting disease has also been documented in Canada, demonstrating prion-like symptoms such as, “memory loss, hallucinations and muscle atrophy.” Doctors there have ruled out CJD, however, but haven’t yet found the cause.\n"
          ]
        }
      ],
      "source": [
        "predictions(y_pred, predictionPrint)"
      ]
    },
    {
      "cell_type": "markdown",
      "metadata": {
        "id": "S90qY43B5f5j"
      },
      "source": [
        "**Predict on friend's news articles**"
      ]
    },
    {
      "cell_type": "code",
      "execution_count": null,
      "metadata": {
        "colab": {
          "base_uri": "https://localhost:8080/",
          "height": 388
        },
        "id": "trn_sCWzy7zG",
        "outputId": "22952081-01c3-4437-a4f7-9b7a33971c80"
      },
      "outputs": [
        {
          "name": "stdout",
          "output_type": "stream",
          "text": [
            "\n",
            "===============================================================================\n"
          ]
        },
        {
          "data": {
            "text/markdown": [
              "**REAL NEWS**"
            ],
            "text/plain": [
              "<IPython.core.display.Markdown object>"
            ]
          },
          "metadata": {
            "tags": []
          },
          "output_type": "display_data"
        },
        {
          "name": "stdout",
          "output_type": "stream",
          "text": [
            "\n"
          ]
        },
        {
          "data": {
            "text/markdown": [
              "**Title:**"
            ],
            "text/plain": [
              "<IPython.core.display.Markdown object>"
            ]
          },
          "metadata": {
            "tags": []
          },
          "output_type": "display_data"
        },
        {
          "name": "stdout",
          "output_type": "stream",
          "text": [
            "Israel reports 94% drop in symptomatic COVID-19 cases with Pfizer vaccine: study\n"
          ]
        },
        {
          "data": {
            "text/markdown": [
              "**Text:**"
            ],
            "text/plain": [
              "<IPython.core.display.Markdown object>"
            ]
          },
          "metadata": {
            "tags": []
          },
          "output_type": "display_data"
        },
        {
          "name": "stdout",
          "output_type": "stream",
          "text": [
            "Israel‘s largest healthcare provider on Sunday reported a 94 per cent drop in symptomatic COVID-19 infections among 600,000 people who received two doses of the Pfizer’s vaccine in the country’s biggest study to date. Health maintenance organization (HMO) Clalit, which covers more than half of all Israelis, said the same group was also 92 per cent less likely to develop severe illness from the virus. The comparison was against a group of the same size, with matching medical histories, who had not received the vaccine. “It shows unequivocally that Pfizer’s coronavirus vaccine is extremely effective in the real world a week after the second dose, just as it was found to be in the clinical study,” said Ran Balicer, Clalit’s chief innovation officer. He added that the data indicates the Pfizer vaccine, which was developed in partnership with Germany’s BioNTech, is even more effective two weeks or more after the second shot.  Researchers at the Weizmann Institute of Science, who have been tabulating national data, said on Sunday that a sharp decline in hospitalization and serious illness identified earlier among the first age group to be vaccinated – aged 60 or older – was seen for the first time in those aged 55 and older. Hospitalisations and serious illness were still rising in younger groups who began vaccinations weeks later. Israel has been conducting a rapid vaccine rollout and its database offers insights into vaccine effectiveness and at what point countries might attain herd immunity. \n",
            "\n",
            "===============================================================================\n"
          ]
        },
        {
          "data": {
            "text/markdown": [
              "**FAKE NEWS**"
            ],
            "text/plain": [
              "<IPython.core.display.Markdown object>"
            ]
          },
          "metadata": {
            "tags": []
          },
          "output_type": "display_data"
        },
        {
          "name": "stdout",
          "output_type": "stream",
          "text": [
            "\n"
          ]
        },
        {
          "data": {
            "text/markdown": [
              "**Title:**"
            ],
            "text/plain": [
              "<IPython.core.display.Markdown object>"
            ]
          },
          "metadata": {
            "tags": []
          },
          "output_type": "display_data"
        },
        {
          "name": "stdout",
          "output_type": "stream",
          "text": [
            "At least 60 percent of all new Covid-19 “cases” are occurring in people who were already vaccinated\n"
          ]
        },
        {
          "data": {
            "text/markdown": [
              "**Text:**"
            ],
            "text/plain": [
              "<IPython.core.display.Markdown object>"
            ]
          },
          "metadata": {
            "tags": []
          },
          "output_type": "display_data"
        },
        {
          "name": "stdout",
          "output_type": "stream",
          "text": [
            "Dr. Harvey Risch, a professor of epidemiology at Yale University, has calculated that upwards of 60 percent of all new “cases” of the Wuhan coronavirus (Covid-19) are occurring in people who were already “vaccinated” for the disease. “Clinicians have been telling me that more than half of the new Covid cases that they’re treating are people who have been vaccinated,” Risch told Bannon. As we have been warning, the so-called “third wave” of the Chinese Virus will be due to people who were vaccinated contracting and spreading the disease to others. While Americans who buy into the plandemic narrative have been led to believe that the jabs will protect them against serious symptoms should they test “positive,” Risch says that the medical establishment is looking at things a little bit differently. “I think the American public has been sold on the vaccine by the research that shows that they reduce the infection of mild to moderate symptomatic infection by somewhere between 60-90% depending upon age and vaccine … however, that is not the measure that public health infrastructure, administration, and Dr. [sic] Fauci are using to look at the efficacy of the vaccine,” he added. What Big Medicine is most interested in, according to Risch, is whether or not the jabs actually prevent the spread of infection. It would appear as though they do not, and are actually spreading the disease to recipients and their contacts, based on the latest data. Risch was ostracized by his colleagues for promoting the use of hydroxychloroquine Risch says the reality of how these injections function should serve as a wake-up call to people who think they are going to bring us back to normal. This cannot happen, it turns out, at least not based on the metrics being used by the government to determine when it is “safe” to end the restrictions. “They’ve estimated that more than 60 percent of the new cases that they are treating – Covid cases – have been people who have been vaccinated,” Risch admitted. Last year, Risch was chided and ostracized in various medical circles, including within his own workplace, for advocating the use of hydroxychloroquine (HCQ) in the treatment of the Chinese Virus. On May 27, he published a study in the American Journal of Epidemiology that outlined how the drug works to prevent serious infections. Entitled, “Early Outpatient Treatment of Symptomatic, High-Risk COVID-19 Patients that Should be Ramped-Up Immediately as Key to the Pandemic Crisis,” Risch’s paper revealed what Fauci denied: that HCQ is an inexpensive, effective way to curb the crisis without the need for lockdowns, masks and tyranny. Later on in August, Risch told Fox News host Mark Levin that the evidence is “overwhelming” to support the use of HCQ in the treatment of patients with the Wuhan Flu. It reduces the risk of both hospitalization and death from the Chinese Virus. “As if forever chemicals hadn’t done enough damage to fertility, these shots look like they are going to create a massive dearth in babies,” wrote one person commenting at LifeSiteNews about Chinese Virus injections. “The synthetic spike protein acts like retroviruses. Like retroviruses, some people can mount an immune response and keep them at bay. Others cannot. What’s scary about these COVID medical devices is they’re producing spike proteins, theoretically, in every cell of your body. It’s like skipping HIV and going straight to AIDS. I think over the next two years there is going to be weeping and gnashing of teeth.” Another noted that the clear agenda behind the plandemic is the “imposition of a permanent and increasingly totalitarian state of sanitary dictatorship.”\n"
          ]
        }
      ],
      "source": [
        "predictions(y_predFriend, friendPrint)"
      ]
    },
    {
      "cell_type": "code",
      "execution_count": null,
      "metadata": {
        "id": "KZvwmHj7784p"
      },
      "outputs": [],
      "source": []
    }
  ],
  "metadata": {
    "accelerator": "GPU",
    "colab": {
      "name": "Real vs Fake Articles Tensorflow Keras.ipynb",
      "provenance": []
    },
    "kernelspec": {
      "display_name": "Python 3",
      "name": "python3"
    },
    "language_info": {
      "name": "python"
    }
  },
  "nbformat": 4,
  "nbformat_minor": 0
}
